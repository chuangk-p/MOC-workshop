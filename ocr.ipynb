{
 "cells": [
  {
   "cell_type": "code",
   "execution_count": null,
   "id": "64237148",
   "metadata": {},
   "outputs": [],
   "source": [
    "import requests\n",
    "import pandas as pd\n",
    "import glob\n",
    "import os\n",
    "from IPython.display import Markdown, display\n",
    "from tqdm.notebook import tqdm"
   ]
  },
  {
   "cell_type": "markdown",
   "id": "7911ecd6",
   "metadata": {},
   "source": [
    "# OCR PDF"
   ]
  },
  {
   "cell_type": "code",
   "execution_count": null,
   "id": "cf718d8b",
   "metadata": {},
   "outputs": [],
   "source": [
    "def ocr(pdf_file, pdf_path):\n",
    "    apiurl = \"x\"\n",
    "    payload = {'stringInput': 'ocr'}\n",
    "    files=[\n",
    "    ('file',(pdf_file, open(pdf_path,'rb'),'application/pdf'))\n",
    "    ]\n",
    "    headers = {\n",
    "    'accept': 'application/json'\n",
    "    }\n",
    "\n",
    "    return requests.request(\"POST\", apiurl, headers=headers, data=payload, files=files, timeout=360)\n"
   ]
  },
  {
   "cell_type": "code",
   "execution_count": null,
   "id": "c002d570",
   "metadata": {},
   "outputs": [],
   "source": [
    "result = ocr('2405-0000000032.pdf', './pdf_downloads/2405-0000000032.pdf')"
   ]
  },
  {
   "cell_type": "code",
   "execution_count": null,
   "id": "91a60ae0",
   "metadata": {},
   "outputs": [],
   "source": [
    "result.json()"
   ]
  },
  {
   "cell_type": "code",
   "execution_count": null,
   "id": "80ed8031",
   "metadata": {},
   "outputs": [],
   "source": [
    "from IPython.display import Markdown, display"
   ]
  },
  {
   "cell_type": "code",
   "execution_count": null,
   "id": "ca589bf2",
   "metadata": {},
   "outputs": [],
   "source": [
    "display(Markdown(result.json()[0]['natural_text'])) # texts"
   ]
  },
  {
   "cell_type": "markdown",
   "id": "92581ad4",
   "metadata": {},
   "source": [
    "# OCR from downloaded pdf"
   ]
  },
  {
   "cell_type": "code",
   "execution_count": null,
   "id": "cd4ca0ae",
   "metadata": {},
   "outputs": [],
   "source": [
    "pdf_files = glob.glob('./pdf_downloads/*.pdf')\n",
    "pdf_files"
   ]
  },
  {
   "cell_type": "markdown",
   "id": "7f5be267",
   "metadata": {},
   "source": [
    "# Convert pdf to image"
   ]
  },
  {
   "cell_type": "code",
   "execution_count": null,
   "id": "89b9dbcb",
   "metadata": {},
   "outputs": [],
   "source": [
    "from pdf2image import convert_from_path"
   ]
  },
  {
   "cell_type": "code",
   "execution_count": null,
   "id": "59065e21",
   "metadata": {},
   "outputs": [],
   "source": [
    "def pdf_to_images(pdf_path, output_folder):\n",
    "    # Create output folder if it doesn't exist\n",
    "    if not os.path.exists(output_folder):\n",
    "        os.makedirs(output_folder)\n",
    "    \n",
    "    # Convert PDF to list of images\n",
    "    images = convert_from_path(pdf_path)\n",
    "    \n",
    "    # Save each image\n",
    "    for i, image in enumerate(images):\n",
    "        image_path = os.path.join(output_folder, f'page_{i+1}.png')\n",
    "        image.save(image_path, 'PNG')"
   ]
  },
  {
   "cell_type": "code",
   "execution_count": null,
   "id": "d2904365",
   "metadata": {},
   "outputs": [],
   "source": [
    "output_path = './pdf_images'\n",
    "os.makedirs(output_path, exist_ok=True)"
   ]
  },
  {
   "cell_type": "code",
   "execution_count": null,
   "id": "79ac3613",
   "metadata": {},
   "outputs": [],
   "source": [
    "pdf_files"
   ]
  },
  {
   "cell_type": "code",
   "execution_count": null,
   "id": "b2e541f5",
   "metadata": {},
   "outputs": [],
   "source": [
    "pdf_image_path_list = []\n",
    "for file in tqdm(pdf_files):\n",
    "    pdf_image_path = output_path+'/'+file.split('/')[-1].split('.pdf')[0]\n",
    "    pdf_image_path_list.append(pdf_image_path)\n",
    "    os.makedirs(pdf_image_path, exist_ok=True)\n",
    "    output_dir = pdf_image_path  # Output folder for images\n",
    "    pdf_to_images(file, output_dir)\n",
    "    # break"
   ]
  },
  {
   "cell_type": "code",
   "execution_count": null,
   "id": "dbcf6461",
   "metadata": {},
   "outputs": [],
   "source": [
    "pdf_image_path_list"
   ]
  },
  {
   "cell_type": "markdown",
   "id": "54c09af2",
   "metadata": {},
   "source": [
    "## OCR image"
   ]
  },
  {
   "cell_type": "code",
   "execution_count": null,
   "id": "31119344",
   "metadata": {},
   "outputs": [],
   "source": [
    "def image_ocr(img, img_path):\n",
    "\n",
    "    url = \"x\"\n",
    "\n",
    "    payload = {'stringInput': 'ocr'}\n",
    "    files=[\n",
    "    ('file',(img, open(img_path,'rb'),'image/jpeg'))\n",
    "    ]\n",
    "    headers = {\n",
    "    'accept': 'image/jpeg'\n",
    "    }\n",
    "\n",
    "    response = requests.request(\"POST\", url, headers=headers, data=payload, files=files)\n",
    "\n",
    "    return response.json()"
   ]
  },
  {
   "cell_type": "code",
   "execution_count": null,
   "id": "c2f218f8",
   "metadata": {},
   "outputs": [],
   "source": [
    "datas = {\n",
    "        'source' : [],\n",
    "        'page' : [],\n",
    "        'result' : []\n",
    "}\n",
    "for file in pdf_image_path_list:\n",
    "    # ocr_text = []\n",
    "    # pdf_page = []\n",
    "    # source = []\n",
    "\n",
    "    pages = glob.glob(file+'/*')\n",
    "    pages = sorted(pages, key=lambda x: int(os.path.basename(x).split('_')[1].split('.')[0]))\n",
    "    if len(pages) > 5: # skip cause took too long\n",
    "        continue\n",
    "    # print(pages)\n",
    "    for idx, p in tqdm(enumerate(pages)):\n",
    "        # pdf_page.append(idx+1)\n",
    "        # source.append(p.split('/')[-2])\n",
    "        datas['source'].append(p.split('/')[-2])\n",
    "        datas['page'].append(idx+1)\n",
    "        # print(idx, p)\n",
    "        datas['result'] += image_ocr(p.split('/')[-1], p)\n",
    "        # datas['ocr_text'] += ocr_text)\n",
    "    # datas['source'].append(source)\n",
    "    # datas['page'].append(idx+1)\n",
    "    # datas['ocr_text'].append(ocr_text)\n",
    "    # break"
   ]
  },
  {
   "cell_type": "code",
   "execution_count": null,
   "id": "a7526e6d",
   "metadata": {},
   "outputs": [],
   "source": [
    "datas"
   ]
  },
  {
   "cell_type": "markdown",
   "id": "b1d7d229",
   "metadata": {},
   "source": [
    "## save to data frame"
   ]
  },
  {
   "cell_type": "code",
   "execution_count": null,
   "id": "365db061",
   "metadata": {},
   "outputs": [],
   "source": [
    "df = pd.DataFrame.from_dict(datas)"
   ]
  },
  {
   "cell_type": "code",
   "execution_count": null,
   "id": "742ec471",
   "metadata": {},
   "outputs": [],
   "source": [
    "df"
   ]
  },
  {
   "cell_type": "code",
   "execution_count": null,
   "id": "63e66874",
   "metadata": {},
   "outputs": [],
   "source": [
    "df['ocr_text'] = df['result'].apply(lambda x : x['natural_text'])"
   ]
  },
  {
   "cell_type": "code",
   "execution_count": null,
   "id": "6ee3a474",
   "metadata": {},
   "outputs": [],
   "source": [
    "df"
   ]
  },
  {
   "cell_type": "code",
   "execution_count": null,
   "id": "b9400106",
   "metadata": {},
   "outputs": [],
   "source": []
  }
 ],
 "metadata": {
  "kernelspec": {
   "display_name": "env",
   "language": "python",
   "name": "python3"
  },
  "language_info": {
   "codemirror_mode": {
    "name": "ipython",
    "version": 3
   },
   "file_extension": ".py",
   "mimetype": "text/x-python",
   "name": "python",
   "nbconvert_exporter": "python",
   "pygments_lexer": "ipython3",
   "version": "3.12.11"
  }
 },
 "nbformat": 4,
 "nbformat_minor": 5
}
