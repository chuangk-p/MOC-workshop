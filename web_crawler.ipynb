{
 "cells": [
  {
   "cell_type": "markdown",
   "id": "6b65b67f",
   "metadata": {},
   "source": [
    "# Install requirement for crawl4ai"
   ]
  },
  {
   "cell_type": "code",
   "execution_count": null,
   "id": "d6affed4",
   "metadata": {},
   "outputs": [],
   "source": [
    "!crawl4ai-setup\n",
    "!crawl4ai-doctor\n",
    "!playwright install"
   ]
  },
  {
   "cell_type": "markdown",
   "id": "453b0c5e",
   "metadata": {},
   "source": [
    "# Load Requirements"
   ]
  },
  {
   "cell_type": "code",
   "execution_count": null,
   "id": "9bce02ad",
   "metadata": {},
   "outputs": [],
   "source": [
    "import requests\n",
    "from bs4 import BeautifulSoup"
   ]
  },
  {
   "cell_type": "code",
   "execution_count": null,
   "id": "b99d3a90",
   "metadata": {},
   "outputs": [],
   "source": [
    "import nest_asyncio\n",
    "nest_asyncio.apply()"
   ]
  },
  {
   "cell_type": "code",
   "execution_count": null,
   "id": "f0605e04",
   "metadata": {},
   "outputs": [],
   "source": [
    "from crawl4ai import AsyncWebCrawler, LXMLWebScrapingStrategy\n",
    "from crawl4ai.async_configs import BrowserConfig, CrawlerRunConfig"
   ]
  },
  {
   "cell_type": "markdown",
   "id": "8fd4478f",
   "metadata": {},
   "source": [
    "# Scraping"
   ]
  },
  {
   "cell_type": "code",
   "execution_count": null,
   "id": "21058e8a",
   "metadata": {},
   "outputs": [],
   "source": [
    "url = 'https://www.ipthailand.go.th/th/trademark-002.html'"
   ]
  },
  {
   "cell_type": "code",
   "execution_count": null,
   "id": "30c1fff8",
   "metadata": {},
   "outputs": [],
   "source": [
    "async def crawler_function(url):\n",
    "    browser_config = BrowserConfig(verbose=False) # verbose for logging\n",
    "\n",
    "    run_config = CrawlerRunConfig(\n",
    "      # word_count_threshold=10,        # Minimum words per content block\n",
    "      exclude_external_links=True,    # Remove external links\n",
    "      remove_overlay_elements=True,   # Remove popups/modals\n",
    "      process_iframes=True            # Process iframe content\n",
    "      )\n",
    "\n",
    "    async with AsyncWebCrawler(config=browser_config) as crawler:\n",
    "        result = await crawler.arun(\n",
    "            url=url,\n",
    "            config=run_config\n",
    "        )\n",
    "        # print(result.markdown)  # Print clean markdown content\n",
    "        return result"
   ]
  },
  {
   "cell_type": "code",
   "execution_count": null,
   "id": "d937eb6b",
   "metadata": {},
   "outputs": [],
   "source": [
    "result = await crawler_function(url)"
   ]
  },
  {
   "cell_type": "code",
   "execution_count": null,
   "id": "bc339e5f",
   "metadata": {},
   "outputs": [],
   "source": [
    "print(result.markdown)"
   ]
  },
  {
   "cell_type": "code",
   "execution_count": null,
   "id": "b06c3190",
   "metadata": {},
   "outputs": [],
   "source": [
    "url = 'https://www.ipthailand.go.th/th/trademark-002.html'"
   ]
  },
  {
   "cell_type": "code",
   "execution_count": null,
   "id": "f43593aa",
   "metadata": {},
   "outputs": [],
   "source": [
    "result = await crawler_function(url)"
   ]
  },
  {
   "cell_type": "code",
   "execution_count": null,
   "id": "b27be0de",
   "metadata": {},
   "outputs": [],
   "source": [
    "print(result.html)"
   ]
  },
  {
   "cell_type": "code",
   "execution_count": null,
   "id": "e269dccc",
   "metadata": {},
   "outputs": [],
   "source": [
    "print(result.markdown)"
   ]
  },
  {
   "cell_type": "code",
   "execution_count": null,
   "id": "8068a3e2",
   "metadata": {},
   "outputs": [],
   "source": [
    "from IPython.display import Markdown, display"
   ]
  },
  {
   "cell_type": "code",
   "execution_count": null,
   "id": "bee3e452",
   "metadata": {},
   "outputs": [],
   "source": [
    "display(Markdown(result.markdown[:5000])) "
   ]
  },
  {
   "cell_type": "markdown",
   "id": "eeb5a5af",
   "metadata": {},
   "source": [
    "## Crawl into another URL"
   ]
  },
  {
   "cell_type": "code",
   "execution_count": null,
   "id": "c7de9d30",
   "metadata": {},
   "outputs": [],
   "source": [
    "soup = BeautifulSoup(result.html, 'html.parser')\n",
    "print(soup.prettify())"
   ]
  },
  {
   "cell_type": "code",
   "execution_count": null,
   "id": "170843b2",
   "metadata": {},
   "outputs": [],
   "source": [
    "divs = soup.find_all('div', class_='uk-width-medium-1-2')"
   ]
  },
  {
   "cell_type": "code",
   "execution_count": null,
   "id": "a7c93155",
   "metadata": {},
   "outputs": [],
   "source": [
    "for d in divs:\n",
    "    print('https://www.ipthailand.go.th/'+d.find('a', class_='zx')['href'])"
   ]
  },
  {
   "cell_type": "code",
   "execution_count": null,
   "id": "fe505ede",
   "metadata": {},
   "outputs": [],
   "source": [
    "divs[0].find('a', class_='zx')['href']"
   ]
  },
  {
   "cell_type": "code",
   "execution_count": null,
   "id": "95662ddd",
   "metadata": {},
   "outputs": [],
   "source": [
    "'https://www.ipthailand.go.th/'+divs[0].find('a', class_='zx')['href']"
   ]
  },
  {
   "cell_type": "code",
   "execution_count": null,
   "id": "7e06d0c3",
   "metadata": {},
   "outputs": [],
   "source": [
    "async def content_crawler(url):\n",
    "    config = CrawlerRunConfig(\n",
    "        scraping_strategy=LXMLWebScrapingStrategy(),\n",
    "        verbose=False\n",
    "    )\n",
    "    async with AsyncWebCrawler() as crawler:\n",
    "        result = await crawler.arun(url, config=config)\n",
    "\n",
    "    return result"
   ]
  },
  {
   "cell_type": "code",
   "execution_count": null,
   "id": "c5654033",
   "metadata": {},
   "outputs": [],
   "source": [
    "result = await content_crawler('https://www.ipthailand.go.th/'+divs[4].find('a', class_='zx')['href'])"
   ]
  },
  {
   "cell_type": "code",
   "execution_count": null,
   "id": "61a5593d",
   "metadata": {},
   "outputs": [],
   "source": [
    "print(result.markdown)\n",
    "# display(Markdown(result.markdown[:50000])) "
   ]
  },
  {
   "cell_type": "code",
   "execution_count": null,
   "id": "396b7502",
   "metadata": {},
   "outputs": [],
   "source": [
    "datas = []\n",
    "result = await crawler_function('https://www.ipthailand.go.th/th/trademark-002.html')\n",
    "divs = soup.find_all('div', class_='uk-width-medium-1-2')\n",
    "for d in divs:\n",
    "    datas.append(await content_crawler('https://www.ipthailand.go.th/'+d.find('a', class_='zx')['href']))"
   ]
  },
  {
   "cell_type": "markdown",
   "id": "17e3af93",
   "metadata": {},
   "source": [
    "# Transform into DataFrame"
   ]
  },
  {
   "cell_type": "code",
   "execution_count": null,
   "id": "5ee4869c",
   "metadata": {},
   "outputs": [],
   "source": [
    "import pandas as pd"
   ]
  },
  {
   "cell_type": "code",
   "execution_count": null,
   "id": "62977ec6",
   "metadata": {},
   "outputs": [],
   "source": [
    "df = pd.DataFrame({\n",
    "    'markdown' : [row.markdown for row in datas],\n",
    "    'content' : [row.html for row in datas]\n",
    "})"
   ]
  },
  {
   "cell_type": "code",
   "execution_count": null,
   "id": "db1667a9",
   "metadata": {},
   "outputs": [],
   "source": [
    "df"
   ]
  },
  {
   "cell_type": "code",
   "execution_count": null,
   "id": "a8abf7c8",
   "metadata": {},
   "outputs": [],
   "source": [
    "df['markdown'][0]"
   ]
  },
  {
   "cell_type": "code",
   "execution_count": null,
   "id": "d4b420ed",
   "metadata": {},
   "outputs": [],
   "source": [
    "display(Markdown(df['markdown'][1][:25000]))"
   ]
  },
  {
   "cell_type": "markdown",
   "id": "05ed7e47",
   "metadata": {},
   "source": [
    "# Scraping PDF Files"
   ]
  },
  {
   "cell_type": "code",
   "execution_count": null,
   "id": "ac7cf96f",
   "metadata": {},
   "outputs": [],
   "source": [
    "result = await crawler_function('https://tpso.go.th/articles')"
   ]
  },
  {
   "cell_type": "code",
   "execution_count": null,
   "id": "f0851168",
   "metadata": {},
   "outputs": [],
   "source": [
    "# display(Markdown(result.markdown))"
   ]
  },
  {
   "cell_type": "code",
   "execution_count": null,
   "id": "4d5ad132",
   "metadata": {},
   "outputs": [],
   "source": [
    "soup = BeautifulSoup(result.html, 'html.parser')\n",
    "print(soup.prettify())"
   ]
  },
  {
   "cell_type": "code",
   "execution_count": null,
   "id": "b8646330",
   "metadata": {},
   "outputs": [],
   "source": [
    "divs = soup.find_all('a', class_='underline-offset-2 hover:underline')"
   ]
  },
  {
   "cell_type": "code",
   "execution_count": null,
   "id": "2c23483c",
   "metadata": {},
   "outputs": [],
   "source": [
    "divs"
   ]
  },
  {
   "cell_type": "code",
   "execution_count": null,
   "id": "bfd8f72e",
   "metadata": {},
   "outputs": [],
   "source": [
    "divs[0]['href']"
   ]
  },
  {
   "cell_type": "code",
   "execution_count": null,
   "id": "c80e2b44",
   "metadata": {},
   "outputs": [],
   "source": [
    "import os"
   ]
  },
  {
   "cell_type": "code",
   "execution_count": null,
   "id": "d740aafa",
   "metadata": {},
   "outputs": [],
   "source": [
    "downloads_path = './pdf_downloads'\n",
    "os.makedirs(downloads_path, exist_ok=True)"
   ]
  },
  {
   "cell_type": "markdown",
   "id": "ddb34476",
   "metadata": {},
   "source": [
    "## More Scraping"
   ]
  },
  {
   "cell_type": "code",
   "execution_count": null,
   "id": "2bda1e24",
   "metadata": {},
   "outputs": [],
   "source": [
    "datas = []\n",
    "for d in divs:\n",
    "    datas.append(await crawler_function('https://tpso.go.th'+d['href']))\n",
    "    # print('https://tpso.go.th'+d['href'])"
   ]
  },
  {
   "cell_type": "code",
   "execution_count": null,
   "id": "f73ee9cc",
   "metadata": {},
   "outputs": [],
   "source": [
    "divs"
   ]
  },
  {
   "cell_type": "markdown",
   "id": "3a91249a",
   "metadata": {},
   "source": [
    "## Download PDF"
   ]
  },
  {
   "cell_type": "code",
   "execution_count": null,
   "id": "3f9b4d33",
   "metadata": {},
   "outputs": [],
   "source": [
    "for row in datas:\n",
    "    for uri in row.links['internal']:\n",
    "        if 'uploads' in uri['href']: \n",
    "            name = uri['href'].split('/')[-1]\n",
    "            res = requests.get(uri['href'])\n",
    "            pdf = open(downloads_path+'/'+row.url.split('/')[-1]+'.pdf', 'wb')\n",
    "            pdf.write(res.content)\n",
    "            pdf.close()"
   ]
  },
  {
   "cell_type": "markdown",
   "id": "cfc7cbbb",
   "metadata": {},
   "source": [
    "# Transform into DataFrame"
   ]
  },
  {
   "cell_type": "code",
   "execution_count": null,
   "id": "8ed31134",
   "metadata": {},
   "outputs": [],
   "source": [
    "df2 = pd.DataFrame({\n",
    "    'markdown' : [row.markdown for row in datas],\n",
    "    'content' : [row.html for row in datas],\n",
    "    'pdf_file' : [row.url.split('/')[-1]+'.pdf' for row in datas for uri in row.links['internal'] if 'uploads' in uri['href']]\n",
    "})"
   ]
  },
  {
   "cell_type": "code",
   "execution_count": null,
   "id": "925fa7cd",
   "metadata": {},
   "outputs": [],
   "source": [
    "df2"
   ]
  },
  {
   "cell_type": "code",
   "execution_count": null,
   "id": "e21aa3b3",
   "metadata": {},
   "outputs": [],
   "source": [
    "downloads_path = './json_file'\n",
    "os.makedirs(downloads_path, exist_ok=True)"
   ]
  },
  {
   "cell_type": "markdown",
   "id": "fefd0ae8",
   "metadata": {},
   "source": [
    "# Save to json line"
   ]
  },
  {
   "cell_type": "code",
   "execution_count": null,
   "id": "eaa8bd21",
   "metadata": {},
   "outputs": [],
   "source": [
    "df.to_json('./json_file/ipthailand.jsonl', orient='records', lines=True)\n",
    "df2.to_json('./json_file/tpso.jsonl', orient='records', lines=True)"
   ]
  },
  {
   "cell_type": "code",
   "execution_count": null,
   "id": "516b3889",
   "metadata": {},
   "outputs": [],
   "source": []
  }
 ],
 "metadata": {
  "kernelspec": {
   "display_name": "env",
   "language": "python",
   "name": "python3"
  },
  "language_info": {
   "codemirror_mode": {
    "name": "ipython",
    "version": 3
   },
   "file_extension": ".py",
   "mimetype": "text/x-python",
   "name": "python",
   "nbconvert_exporter": "python",
   "pygments_lexer": "ipython3",
   "version": "3.12.11"
  }
 },
 "nbformat": 4,
 "nbformat_minor": 5
}
